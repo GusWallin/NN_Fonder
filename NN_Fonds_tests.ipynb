{
 "metadata": {
  "language_info": {
   "codemirror_mode": {
    "name": "ipython",
    "version": 3
   },
   "file_extension": ".py",
   "mimetype": "text/x-python",
   "name": "python",
   "nbconvert_exporter": "python",
   "pygments_lexer": "ipython3",
   "version": "3.8.1-final"
  },
  "orig_nbformat": 2,
  "kernelspec": {
   "name": "python38132bit901ae92180934f549df430ca56914ab3",
   "display_name": "Python 3.8.1 32-bit"
  }
 },
 "nbformat": 4,
 "nbformat_minor": 2,
 "cells": [
  {
   "cell_type": "code",
   "execution_count": null,
   "metadata": {
    "tags": []
   },
   "outputs": [],
   "source": [
    "from bs4 import BeautifulSoup\n",
    "import requests\n",
    "import time\n",
    "import math\n",
    "import numpy as np\n",
    "from pathlib import Path\n",
    "import pandas as pd\n",
    "from tabulate import tabulate\n",
    "from selenium.webdriver.common.keys import Keys\n",
    "from selenium.webdriver.common.by import By\n",
    "from selenium.webdriver.support.ui import WebDriverWait\n",
    "from selenium.webdriver.support import expected_conditions as EC\n",
    "from selenium.common.exceptions import ElementClickInterceptedException\n",
    "from selenium import webdriver\n",
    "\n",
    "#global variables\n",
    "\n",
    "file_path = Path().parent.absolute()\n",
    "start_page = 1  # page to start from\n",
    "csv_file_name = 'Fonder_total.csv'\n",
    "# path to webdriver for chrome\n",
    "\n",
    "DRIVERPATH = r\"C:\\Program Files (x86)\\chromedriver.exe\"\n",
    "\n",
    "# setup\n",
    "driver = webdriver.Chrome(DRIVERPATH)\n",
    "driver.get(\"https://www.nordnet.se/marknaden/fondlistor?sortField=name&sortOrder=asc&selectedTab=overview&page=1\")\n",
    "\n",
    "soup = BeautifulSoup(driver.page_source, 'lxml')\n",
    "table = soup.find_all('table')[0]\n",
    "tab_data = [[cell.text for cell in row.find_all(\n",
    "    [\"th\", \"td\"])] for row in table.find_all(\"tr\")]\n",
    "\n",
    "#global variables\n",
    "df = pd.DataFrame(tab_data)\n",
    "page_counter = int(start_page)\n",
    "total_df = pd.DataFrame()\n",
    "\n",
    "#function to get the results page and data for each fund.\n",
    "def get_results():\n",
    "    element = WebDriverWait(driver, 5).until(\n",
    "        EC.presence_of_element_located((By.ID, \"tabs-tab-1\")))\n",
    "    element.click()\n",
    "    time.sleep(2)\n",
    "\n",
    "    soup = BeautifulSoup(driver.page_source, 'lxml')\n",
    "    results_table = soup.find_all('table')[0]\n",
    "    results_table_data = [[cell.text for cell in row.find_all(\n",
    "        [\"th\", \"td\"])] for row in results_table.find_all(\"tr\")]\n",
    "\n",
    "    results_frame = pd.DataFrame(results_table_data)\n",
    "    temp_df = pd.merge(\n",
    "        df, results_frame, right_index=True, left_index=True)\n",
    "    print(temp_df.head())\n",
    "\n",
    "    return temp_df\n",
    "\n",
    "total_df = total_df.append(get_results())\n",
    "\n",
    "driver.quit()\n",
    "\n",
    "\n"
   ]
  },
  {
   "cell_type": "code",
   "execution_count": null,
   "metadata": {},
   "outputs": [],
   "source": [
    "pd.pandas.set_option('display.max_columns', None)\n",
    "total_df.head()"
   ]
  },
  {
   "cell_type": "code",
   "execution_count": null,
   "metadata": {},
   "outputs": [],
   "source": [
    "total_df.head()"
   ]
  },
  {
   "cell_type": "code",
   "execution_count": 163,
   "metadata": {},
   "outputs": [],
   "source": [
    "df = pd.read_csv('Fonder_total.csv')"
   ]
  },
  {
   "cell_type": "code",
   "execution_count": 164,
   "metadata": {},
   "outputs": [
    {
     "output_type": "execute_result",
     "data": {
      "text/plain": "   Unnamed: 0  0_x                              1_x  \\\n0           0  NaN                             Fond   \n1           1  Köp          Öhman Sverige Hållbar A   \n2           2  Köp          Öhman Sverige Hållbar B   \n3           3  Köp  Öhman Sverige Marknad Hållbar A   \n\n                               2_x                              3_x       4_x  \\\n0                              NaN                              NaN  Kategori   \n1          Öhman Sverige Hållbar A          Öhman Sverige Hållbar A       NaN   \n2          Öhman Sverige Hållbar B          Öhman Sverige Hållbar B       NaN   \n3  Öhman Sverige Marknad Hållbar A  Öhman Sverige Marknad Hållbar A       NaN   \n\n      5_x      6_x           7_x         8_x              9_x          10_x  \\\n0  Rating     1 år  Årlig avgift  Hållbarhet             Risk           NaN   \n1     NaN  Sverige           1/5         NaN   ++ 5.32 %5,32%    1.3 %1,30%   \n2     NaN  Sverige           1/5         NaN   ++ 5.19 %5,19%    1.3 %1,30%   \n3     NaN  Sverige           3/5         NaN  ++ 12.9 %12,90%   0.31 %0,31%   \n\n            11_x          12_x  13_x 14_x       15_x 16_x 17_x 18_x 19_x  0_y  \\\n0            NaN           NaN   NaN  NaN        NaN  NaN  NaN  NaN  NaN  NaN   \n1   21 21 av 100  Hög (6 av 7)   NaN       Expandera                      Köp   \n2   21 21 av 100  Hög (6 av 7)   NaN       Expandera                      Köp   \n3   20 20 av 100  Hög (6 av 7)   NaN       Expandera                      Köp   \n\n                               1_y                              2_y  \\\n0                             Fond                              NaN   \n1          Öhman Sverige Hållbar A          Öhman Sverige Hållbar A   \n2          Öhman Sverige Hållbar B          Öhman Sverige Hållbar B   \n3  Öhman Sverige Marknad Hållbar A  Öhman Sverige Marknad Hållbar A   \n\n                               3_y    4_y      5_y             6_y  \\\n0                              NaN  1 dag  1 vecka           1 mån   \n1          Öhman Sverige Hållbar A    NaN      NaN   ++ 1.5 %1,50%   \n2          Öhman Sverige Hållbar B    NaN      NaN   ++ 1.5 %1,50%   \n3  Öhman Sverige Marknad Hållbar A    NaN      NaN  ++ 1.65 %1,65%   \n\n              7_y             8_y             9_y            10_y  \\\n0           3 mån            i år            1 år            3 år   \n1  ++ 1.18 %1,18%  ++ 4.84 %4,84%  ++ 7.26 %7,26%  -- 1.04 %1,04%   \n2  ++ 1.17 %1,17%   ++ 4.8 %4,80%  ++ 7.22 %7,22%  -- 1.18 %1,18%   \n3  ++ 1.59 %1,59%  ++ 4.35 %4,35%  ++ 7.99 %7,99%  ++ 3.27 %3,27%   \n\n              11_y              12_y              13_y 14_y  15_y 16_y  \\\n0             5 år             10 år               NaN  NaN   NaN  NaN   \n1   ++ 5.32 %5,32%  ++ 17.77 %17,77%  ++ 28.38 %28,38%    –   NaN        \n2   ++ 5.19 %5,19%  ++ 17.45 %17,45%   ++ 28.1 %28,10%    –   NaN        \n3  ++ 12.9 %12,90%  ++ 29.97 %29,97%                 –    –   NaN        \n\n        17_y 18_y 19_y   20   21   22  \n0        NaN  NaN  NaN  NaN  NaN  NaN  \n1  Expandera                           \n2  Expandera                           \n3  Expandera                           ",
      "text/html": "<div>\n<style scoped>\n    .dataframe tbody tr th:only-of-type {\n        vertical-align: middle;\n    }\n\n    .dataframe tbody tr th {\n        vertical-align: top;\n    }\n\n    .dataframe thead th {\n        text-align: right;\n    }\n</style>\n<table border=\"1\" class=\"dataframe\">\n  <thead>\n    <tr style=\"text-align: right;\">\n      <th></th>\n      <th>Unnamed: 0</th>\n      <th>0_x</th>\n      <th>1_x</th>\n      <th>2_x</th>\n      <th>3_x</th>\n      <th>4_x</th>\n      <th>5_x</th>\n      <th>6_x</th>\n      <th>7_x</th>\n      <th>8_x</th>\n      <th>9_x</th>\n      <th>10_x</th>\n      <th>11_x</th>\n      <th>12_x</th>\n      <th>13_x</th>\n      <th>14_x</th>\n      <th>15_x</th>\n      <th>16_x</th>\n      <th>17_x</th>\n      <th>18_x</th>\n      <th>19_x</th>\n      <th>0_y</th>\n      <th>1_y</th>\n      <th>2_y</th>\n      <th>3_y</th>\n      <th>4_y</th>\n      <th>5_y</th>\n      <th>6_y</th>\n      <th>7_y</th>\n      <th>8_y</th>\n      <th>9_y</th>\n      <th>10_y</th>\n      <th>11_y</th>\n      <th>12_y</th>\n      <th>13_y</th>\n      <th>14_y</th>\n      <th>15_y</th>\n      <th>16_y</th>\n      <th>17_y</th>\n      <th>18_y</th>\n      <th>19_y</th>\n      <th>20</th>\n      <th>21</th>\n      <th>22</th>\n    </tr>\n  </thead>\n  <tbody>\n    <tr>\n      <th>0</th>\n      <td>0</td>\n      <td>NaN</td>\n      <td>Fond</td>\n      <td>NaN</td>\n      <td>NaN</td>\n      <td>Kategori</td>\n      <td>Rating</td>\n      <td>1 år</td>\n      <td>Årlig avgift</td>\n      <td>Hållbarhet</td>\n      <td>Risk</td>\n      <td>NaN</td>\n      <td>NaN</td>\n      <td>NaN</td>\n      <td>NaN</td>\n      <td>NaN</td>\n      <td>NaN</td>\n      <td>NaN</td>\n      <td>NaN</td>\n      <td>NaN</td>\n      <td>NaN</td>\n      <td>NaN</td>\n      <td>Fond</td>\n      <td>NaN</td>\n      <td>NaN</td>\n      <td>1 dag</td>\n      <td>1 vecka</td>\n      <td>1 mån</td>\n      <td>3 mån</td>\n      <td>i år</td>\n      <td>1 år</td>\n      <td>3 år</td>\n      <td>5 år</td>\n      <td>10 år</td>\n      <td>NaN</td>\n      <td>NaN</td>\n      <td>NaN</td>\n      <td>NaN</td>\n      <td>NaN</td>\n      <td>NaN</td>\n      <td>NaN</td>\n      <td>NaN</td>\n      <td>NaN</td>\n      <td>NaN</td>\n    </tr>\n    <tr>\n      <th>1</th>\n      <td>1</td>\n      <td>Köp</td>\n      <td>Öhman Sverige Hållbar A</td>\n      <td>Öhman Sverige Hållbar A</td>\n      <td>Öhman Sverige Hållbar A</td>\n      <td>NaN</td>\n      <td>NaN</td>\n      <td>Sverige</td>\n      <td>1/5</td>\n      <td>NaN</td>\n      <td>++ 5.32 %5,32%</td>\n      <td>1.3 %1,30%</td>\n      <td>21 21 av 100</td>\n      <td>Hög (6 av 7)</td>\n      <td>NaN</td>\n      <td></td>\n      <td>Expandera</td>\n      <td></td>\n      <td></td>\n      <td></td>\n      <td></td>\n      <td>Köp</td>\n      <td>Öhman Sverige Hållbar A</td>\n      <td>Öhman Sverige Hållbar A</td>\n      <td>Öhman Sverige Hållbar A</td>\n      <td>NaN</td>\n      <td>NaN</td>\n      <td>++ 1.5 %1,50%</td>\n      <td>++ 1.18 %1,18%</td>\n      <td>++ 4.84 %4,84%</td>\n      <td>++ 7.26 %7,26%</td>\n      <td>-- 1.04 %1,04%</td>\n      <td>++ 5.32 %5,32%</td>\n      <td>++ 17.77 %17,77%</td>\n      <td>++ 28.38 %28,38%</td>\n      <td>–</td>\n      <td>NaN</td>\n      <td></td>\n      <td>Expandera</td>\n      <td></td>\n      <td></td>\n      <td></td>\n      <td></td>\n      <td></td>\n    </tr>\n    <tr>\n      <th>2</th>\n      <td>2</td>\n      <td>Köp</td>\n      <td>Öhman Sverige Hållbar B</td>\n      <td>Öhman Sverige Hållbar B</td>\n      <td>Öhman Sverige Hållbar B</td>\n      <td>NaN</td>\n      <td>NaN</td>\n      <td>Sverige</td>\n      <td>1/5</td>\n      <td>NaN</td>\n      <td>++ 5.19 %5,19%</td>\n      <td>1.3 %1,30%</td>\n      <td>21 21 av 100</td>\n      <td>Hög (6 av 7)</td>\n      <td>NaN</td>\n      <td></td>\n      <td>Expandera</td>\n      <td></td>\n      <td></td>\n      <td></td>\n      <td></td>\n      <td>Köp</td>\n      <td>Öhman Sverige Hållbar B</td>\n      <td>Öhman Sverige Hållbar B</td>\n      <td>Öhman Sverige Hållbar B</td>\n      <td>NaN</td>\n      <td>NaN</td>\n      <td>++ 1.5 %1,50%</td>\n      <td>++ 1.17 %1,17%</td>\n      <td>++ 4.8 %4,80%</td>\n      <td>++ 7.22 %7,22%</td>\n      <td>-- 1.18 %1,18%</td>\n      <td>++ 5.19 %5,19%</td>\n      <td>++ 17.45 %17,45%</td>\n      <td>++ 28.1 %28,10%</td>\n      <td>–</td>\n      <td>NaN</td>\n      <td></td>\n      <td>Expandera</td>\n      <td></td>\n      <td></td>\n      <td></td>\n      <td></td>\n      <td></td>\n    </tr>\n    <tr>\n      <th>3</th>\n      <td>3</td>\n      <td>Köp</td>\n      <td>Öhman Sverige Marknad Hållbar A</td>\n      <td>Öhman Sverige Marknad Hållbar A</td>\n      <td>Öhman Sverige Marknad Hållbar A</td>\n      <td>NaN</td>\n      <td>NaN</td>\n      <td>Sverige</td>\n      <td>3/5</td>\n      <td>NaN</td>\n      <td>++ 12.9 %12,90%</td>\n      <td>0.31 %0,31%</td>\n      <td>20 20 av 100</td>\n      <td>Hög (6 av 7)</td>\n      <td>NaN</td>\n      <td></td>\n      <td>Expandera</td>\n      <td></td>\n      <td></td>\n      <td></td>\n      <td></td>\n      <td>Köp</td>\n      <td>Öhman Sverige Marknad Hållbar A</td>\n      <td>Öhman Sverige Marknad Hållbar A</td>\n      <td>Öhman Sverige Marknad Hållbar A</td>\n      <td>NaN</td>\n      <td>NaN</td>\n      <td>++ 1.65 %1,65%</td>\n      <td>++ 1.59 %1,59%</td>\n      <td>++ 4.35 %4,35%</td>\n      <td>++ 7.99 %7,99%</td>\n      <td>++ 3.27 %3,27%</td>\n      <td>++ 12.9 %12,90%</td>\n      <td>++ 29.97 %29,97%</td>\n      <td>–</td>\n      <td>–</td>\n      <td>NaN</td>\n      <td></td>\n      <td>Expandera</td>\n      <td></td>\n      <td></td>\n      <td></td>\n      <td></td>\n      <td></td>\n    </tr>\n  </tbody>\n</table>\n</div>"
     },
     "metadata": {},
     "execution_count": 164
    }
   ],
   "source": [
    "df.head()"
   ]
  },
  {
   "cell_type": "code",
   "execution_count": 165,
   "metadata": {},
   "outputs": [],
   "source": [
    "import functions"
   ]
  },
  {
   "cell_type": "code",
   "execution_count": 166,
   "metadata": {},
   "outputs": [],
   "source": [
    "df = df.applymap(functions.clean_data_number)"
   ]
  },
  {
   "cell_type": "code",
   "execution_count": 167,
   "metadata": {},
   "outputs": [
    {
     "output_type": "execute_result",
     "data": {
      "text/plain": "   Unnamed: 0  0_x                              1_x  \\\n0           0  NaN                             Fond   \n1           1  Köp          Öhman Sverige Hållbar A   \n2           2  Köp          Öhman Sverige Hållbar B   \n3           3  Köp  Öhman Sverige Marknad Hållbar A   \n\n                               2_x                              3_x       4_x  \\\n0                              NaN                              NaN  Kategori   \n1          Öhman Sverige Hållbar A          Öhman Sverige Hållbar A       NaN   \n2          Öhman Sverige Hållbar B          Öhman Sverige Hållbar B       NaN   \n3  Öhman Sverige Marknad Hållbar A  Öhman Sverige Marknad Hållbar A       NaN   \n\n      5_x      6_x           7_x         8_x   9_x          10_x  \\\n0  Rating     1 år  Årlig avgift  Hållbarhet  Risk           NaN   \n1     NaN  Sverige           1/5         NaN  5.32    1.3 %1,30%   \n2     NaN  Sverige           1/5         NaN  5.19    1.3 %1,30%   \n3     NaN  Sverige           3/5         NaN  12.9   0.31 %0,31%   \n\n            11_x          12_x  13_x 14_x       15_x 16_x 17_x 18_x 19_x  0_y  \\\n0            NaN           NaN   NaN  NaN        NaN  NaN  NaN  NaN  NaN  NaN   \n1   21 21 av 100  Hög (6 av 7)   NaN       Expandera                      Köp   \n2   21 21 av 100  Hög (6 av 7)   NaN       Expandera                      Köp   \n3   20 20 av 100  Hög (6 av 7)   NaN       Expandera                      Köp   \n\n                               1_y                              2_y  \\\n0                             Fond                              NaN   \n1          Öhman Sverige Hållbar A          Öhman Sverige Hållbar A   \n2          Öhman Sverige Hållbar B          Öhman Sverige Hållbar B   \n3  Öhman Sverige Marknad Hållbar A  Öhman Sverige Marknad Hållbar A   \n\n                               3_y    4_y      5_y    6_y    7_y   8_y   9_y  \\\n0                              NaN  1 dag  1 vecka  1 mån  3 mån  i år  1 år   \n1          Öhman Sverige Hållbar A    NaN      NaN    1.5   1.18  4.84  7.26   \n2          Öhman Sverige Hållbar B    NaN      NaN    1.5   1.17   4.8  7.22   \n3  Öhman Sverige Marknad Hållbar A    NaN      NaN   1.65   1.59  4.35  7.99   \n\n    10_y  11_y   12_y   13_y 14_y  15_y 16_y       17_y 18_y 19_y   20   21  \\\n0   3 år  5 år  10 år    NaN  NaN   NaN  NaN        NaN  NaN  NaN  NaN  NaN   \n1  -1.04  5.32  17.77  28.38    –   NaN       Expandera                       \n2  -1.18  5.19  17.45   28.1    –   NaN       Expandera                       \n3   3.27  12.9  29.97      –    –   NaN       Expandera                       \n\n    22  \n0  NaN  \n1       \n2       \n3       ",
      "text/html": "<div>\n<style scoped>\n    .dataframe tbody tr th:only-of-type {\n        vertical-align: middle;\n    }\n\n    .dataframe tbody tr th {\n        vertical-align: top;\n    }\n\n    .dataframe thead th {\n        text-align: right;\n    }\n</style>\n<table border=\"1\" class=\"dataframe\">\n  <thead>\n    <tr style=\"text-align: right;\">\n      <th></th>\n      <th>Unnamed: 0</th>\n      <th>0_x</th>\n      <th>1_x</th>\n      <th>2_x</th>\n      <th>3_x</th>\n      <th>4_x</th>\n      <th>5_x</th>\n      <th>6_x</th>\n      <th>7_x</th>\n      <th>8_x</th>\n      <th>9_x</th>\n      <th>10_x</th>\n      <th>11_x</th>\n      <th>12_x</th>\n      <th>13_x</th>\n      <th>14_x</th>\n      <th>15_x</th>\n      <th>16_x</th>\n      <th>17_x</th>\n      <th>18_x</th>\n      <th>19_x</th>\n      <th>0_y</th>\n      <th>1_y</th>\n      <th>2_y</th>\n      <th>3_y</th>\n      <th>4_y</th>\n      <th>5_y</th>\n      <th>6_y</th>\n      <th>7_y</th>\n      <th>8_y</th>\n      <th>9_y</th>\n      <th>10_y</th>\n      <th>11_y</th>\n      <th>12_y</th>\n      <th>13_y</th>\n      <th>14_y</th>\n      <th>15_y</th>\n      <th>16_y</th>\n      <th>17_y</th>\n      <th>18_y</th>\n      <th>19_y</th>\n      <th>20</th>\n      <th>21</th>\n      <th>22</th>\n    </tr>\n  </thead>\n  <tbody>\n    <tr>\n      <th>0</th>\n      <td>0</td>\n      <td>NaN</td>\n      <td>Fond</td>\n      <td>NaN</td>\n      <td>NaN</td>\n      <td>Kategori</td>\n      <td>Rating</td>\n      <td>1 år</td>\n      <td>Årlig avgift</td>\n      <td>Hållbarhet</td>\n      <td>Risk</td>\n      <td>NaN</td>\n      <td>NaN</td>\n      <td>NaN</td>\n      <td>NaN</td>\n      <td>NaN</td>\n      <td>NaN</td>\n      <td>NaN</td>\n      <td>NaN</td>\n      <td>NaN</td>\n      <td>NaN</td>\n      <td>NaN</td>\n      <td>Fond</td>\n      <td>NaN</td>\n      <td>NaN</td>\n      <td>1 dag</td>\n      <td>1 vecka</td>\n      <td>1 mån</td>\n      <td>3 mån</td>\n      <td>i år</td>\n      <td>1 år</td>\n      <td>3 år</td>\n      <td>5 år</td>\n      <td>10 år</td>\n      <td>NaN</td>\n      <td>NaN</td>\n      <td>NaN</td>\n      <td>NaN</td>\n      <td>NaN</td>\n      <td>NaN</td>\n      <td>NaN</td>\n      <td>NaN</td>\n      <td>NaN</td>\n      <td>NaN</td>\n    </tr>\n    <tr>\n      <th>1</th>\n      <td>1</td>\n      <td>Köp</td>\n      <td>Öhman Sverige Hållbar A</td>\n      <td>Öhman Sverige Hållbar A</td>\n      <td>Öhman Sverige Hållbar A</td>\n      <td>NaN</td>\n      <td>NaN</td>\n      <td>Sverige</td>\n      <td>1/5</td>\n      <td>NaN</td>\n      <td>5.32</td>\n      <td>1.3 %1,30%</td>\n      <td>21 21 av 100</td>\n      <td>Hög (6 av 7)</td>\n      <td>NaN</td>\n      <td></td>\n      <td>Expandera</td>\n      <td></td>\n      <td></td>\n      <td></td>\n      <td></td>\n      <td>Köp</td>\n      <td>Öhman Sverige Hållbar A</td>\n      <td>Öhman Sverige Hållbar A</td>\n      <td>Öhman Sverige Hållbar A</td>\n      <td>NaN</td>\n      <td>NaN</td>\n      <td>1.5</td>\n      <td>1.18</td>\n      <td>4.84</td>\n      <td>7.26</td>\n      <td>-1.04</td>\n      <td>5.32</td>\n      <td>17.77</td>\n      <td>28.38</td>\n      <td>–</td>\n      <td>NaN</td>\n      <td></td>\n      <td>Expandera</td>\n      <td></td>\n      <td></td>\n      <td></td>\n      <td></td>\n      <td></td>\n    </tr>\n    <tr>\n      <th>2</th>\n      <td>2</td>\n      <td>Köp</td>\n      <td>Öhman Sverige Hållbar B</td>\n      <td>Öhman Sverige Hållbar B</td>\n      <td>Öhman Sverige Hållbar B</td>\n      <td>NaN</td>\n      <td>NaN</td>\n      <td>Sverige</td>\n      <td>1/5</td>\n      <td>NaN</td>\n      <td>5.19</td>\n      <td>1.3 %1,30%</td>\n      <td>21 21 av 100</td>\n      <td>Hög (6 av 7)</td>\n      <td>NaN</td>\n      <td></td>\n      <td>Expandera</td>\n      <td></td>\n      <td></td>\n      <td></td>\n      <td></td>\n      <td>Köp</td>\n      <td>Öhman Sverige Hållbar B</td>\n      <td>Öhman Sverige Hållbar B</td>\n      <td>Öhman Sverige Hållbar B</td>\n      <td>NaN</td>\n      <td>NaN</td>\n      <td>1.5</td>\n      <td>1.17</td>\n      <td>4.8</td>\n      <td>7.22</td>\n      <td>-1.18</td>\n      <td>5.19</td>\n      <td>17.45</td>\n      <td>28.1</td>\n      <td>–</td>\n      <td>NaN</td>\n      <td></td>\n      <td>Expandera</td>\n      <td></td>\n      <td></td>\n      <td></td>\n      <td></td>\n      <td></td>\n    </tr>\n    <tr>\n      <th>3</th>\n      <td>3</td>\n      <td>Köp</td>\n      <td>Öhman Sverige Marknad Hållbar A</td>\n      <td>Öhman Sverige Marknad Hållbar A</td>\n      <td>Öhman Sverige Marknad Hållbar A</td>\n      <td>NaN</td>\n      <td>NaN</td>\n      <td>Sverige</td>\n      <td>3/5</td>\n      <td>NaN</td>\n      <td>12.9</td>\n      <td>0.31 %0,31%</td>\n      <td>20 20 av 100</td>\n      <td>Hög (6 av 7)</td>\n      <td>NaN</td>\n      <td></td>\n      <td>Expandera</td>\n      <td></td>\n      <td></td>\n      <td></td>\n      <td></td>\n      <td>Köp</td>\n      <td>Öhman Sverige Marknad Hållbar A</td>\n      <td>Öhman Sverige Marknad Hållbar A</td>\n      <td>Öhman Sverige Marknad Hållbar A</td>\n      <td>NaN</td>\n      <td>NaN</td>\n      <td>1.65</td>\n      <td>1.59</td>\n      <td>4.35</td>\n      <td>7.99</td>\n      <td>3.27</td>\n      <td>12.9</td>\n      <td>29.97</td>\n      <td>–</td>\n      <td>–</td>\n      <td>NaN</td>\n      <td></td>\n      <td>Expandera</td>\n      <td></td>\n      <td></td>\n      <td></td>\n      <td></td>\n      <td></td>\n    </tr>\n  </tbody>\n</table>\n</div>"
     },
     "metadata": {},
     "execution_count": 167
    }
   ],
   "source": [
    "pd.pandas.set_option('display.max_columns', None)\n",
    "df.head()"
   ]
  },
  {
   "cell_type": "code",
   "execution_count": null,
   "metadata": {},
   "outputs": [],
   "source": []
  },
  {
   "cell_type": "code",
   "execution_count": null,
   "metadata": {},
   "outputs": [],
   "source": [
    "hello = '1.36 %1,36%'"
   ]
  },
  {
   "cell_type": "code",
   "execution_count": null,
   "metadata": {
    "tags": []
   },
   "outputs": [],
   "source": [
    "if str('1.36') in hello: print('ja')"
   ]
  },
  {
   "cell_type": "code",
   "execution_count": null,
   "metadata": {},
   "outputs": [],
   "source": []
  }
 ]
}