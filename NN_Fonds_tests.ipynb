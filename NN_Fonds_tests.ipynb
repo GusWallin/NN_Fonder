{
 "metadata": {
  "language_info": {
   "codemirror_mode": {
    "name": "ipython",
    "version": 3
   },
   "file_extension": ".py",
   "mimetype": "text/x-python",
   "name": "python",
   "nbconvert_exporter": "python",
   "pygments_lexer": "ipython3",
   "version": "3.8.1-final"
  },
  "orig_nbformat": 2,
  "kernelspec": {
   "name": "python38132bit901ae92180934f549df430ca56914ab3",
   "display_name": "Python 3.8.1 32-bit"
  }
 },
 "nbformat": 4,
 "nbformat_minor": 2,
 "cells": [
  {
   "cell_type": "code",
   "execution_count": null,
   "metadata": {
    "tags": []
   },
   "outputs": [],
   "source": [
    "from bs4 import BeautifulSoup\n",
    "import requests\n",
    "import time\n",
    "import math\n",
    "import numpy as np\n",
    "from pathlib import Path\n",
    "import pandas as pd\n",
    "from tabulate import tabulate\n",
    "from selenium.webdriver.common.keys import Keys\n",
    "from selenium.webdriver.common.by import By\n",
    "from selenium.webdriver.support.ui import WebDriverWait\n",
    "from selenium.webdriver.support import expected_conditions as EC\n",
    "from selenium.common.exceptions import ElementClickInterceptedException\n",
    "from selenium import webdriver\n",
    "\n",
    "#global variables\n",
    "\n",
    "file_path = Path().parent.absolute()\n",
    "start_page = 1  # page to start from\n",
    "csv_file_name = 'Fonder_total.csv'\n",
    "# path to webdriver for chrome\n",
    "\n",
    "DRIVERPATH = r\"C:\\Program Files (x86)\\chromedriver.exe\"\n",
    "\n",
    "# setup\n",
    "driver = webdriver.Chrome(DRIVERPATH)\n",
    "driver.get(\"https://www.nordnet.se/marknaden/fondlistor?sortField=name&sortOrder=asc&selectedTab=overview&page=1\")\n",
    "\n",
    "soup = BeautifulSoup(driver.page_source, 'lxml')\n",
    "table = soup.find_all('table')[0]\n",
    "tab_data = [[cell.text for cell in row.find_all(\n",
    "    [\"th\", \"td\"])] for row in table.find_all(\"tr\")]\n",
    "\n",
    "#global variables\n",
    "df = pd.DataFrame(tab_data)\n",
    "page_counter = int(start_page)\n",
    "total_df = pd.DataFrame()\n",
    "\n",
    "#function to get the results page and data for each fund.\n",
    "def get_results():\n",
    "    element = WebDriverWait(driver, 5).until(\n",
    "        EC.presence_of_element_located((By.ID, \"tabs-tab-1\")))\n",
    "    element.click()\n",
    "    time.sleep(2)\n",
    "\n",
    "    soup = BeautifulSoup(driver.page_source, 'lxml')\n",
    "    results_table = soup.find_all('table')[0]\n",
    "    results_table_data = [[cell.text for cell in row.find_all(\n",
    "        [\"th\", \"td\"])] for row in results_table.find_all(\"tr\")]\n",
    "\n",
    "    results_frame = pd.DataFrame(results_table_data)\n",
    "    temp_df = pd.merge(\n",
    "        df, results_frame, right_index=True, left_index=True)\n",
    "    print(temp_df.head())\n",
    "\n",
    "    return temp_df\n",
    "\n",
    "total_df = total_df.append(get_results())\n",
    "\n",
    "driver.quit()\n",
    "\n",
    "\n"
   ]
  },
  {
   "cell_type": "code",
   "execution_count": null,
   "metadata": {},
   "outputs": [],
   "source": [
    "pd.pandas.set_option('display.max_columns', None)\n",
    "total_df.head()"
   ]
  },
  {
   "cell_type": "code",
   "execution_count": null,
   "metadata": {},
   "outputs": [],
   "source": [
    "total_df.head()"
   ]
  }
 ]
}