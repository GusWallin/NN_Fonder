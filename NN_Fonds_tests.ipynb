{
 "metadata": {
  "language_info": {
   "codemirror_mode": {
    "name": "ipython",
    "version": 3
   },
   "file_extension": ".py",
   "mimetype": "text/x-python",
   "name": "python",
   "nbconvert_exporter": "python",
   "pygments_lexer": "ipython3",
   "version": "3.8.1-final"
  },
  "orig_nbformat": 2,
  "kernelspec": {
   "name": "python38132bit901ae92180934f549df430ca56914ab3",
   "display_name": "Python 3.8.1 32-bit"
  }
 },
 "nbformat": 4,
 "nbformat_minor": 2,
 "cells": [
  {
   "cell_type": "code",
   "execution_count": null,
   "metadata": {
    "tags": []
   },
   "outputs": [],
   "source": [
    "from bs4 import BeautifulSoup\n",
    "import requests\n",
    "import time\n",
    "import math\n",
    "import numpy as np\n",
    "from pathlib import Path\n",
    "import pandas as pd\n",
    "from tabulate import tabulate\n",
    "from selenium.webdriver.common.keys import Keys\n",
    "from selenium.webdriver.common.by import By\n",
    "from selenium.webdriver.support.ui import WebDriverWait\n",
    "from selenium.webdriver.support import expected_conditions as EC\n",
    "from selenium.common.exceptions import ElementClickInterceptedException\n",
    "from selenium import webdriver\n",
    "\n",
    "#global variables\n",
    "\n",
    "file_path = Path().parent.absolute()\n",
    "start_page = 1  # page to start from\n",
    "csv_file_name = 'Fonder_total.csv'\n",
    "# path to webdriver for chrome\n",
    "\n",
    "DRIVERPATH = r\"C:\\Program Files (x86)\\chromedriver.exe\"\n",
    "\n",
    "# setup\n",
    "driver = webdriver.Chrome(DRIVERPATH)\n",
    "driver.get(\"https://www.nordnet.se/marknaden/fondlistor?sortField=name&sortOrder=asc&selectedTab=overview&page=1\")\n",
    "\n",
    "soup = BeautifulSoup(driver.page_source, 'lxml')\n",
    "table = soup.find_all('table')[0]\n",
    "tab_data = [[cell.text for cell in row.find_all(\n",
    "    [\"th\", \"td\"])] for row in table.find_all(\"tr\")]\n",
    "\n",
    "#global variables\n",
    "df = pd.DataFrame(tab_data)\n",
    "page_counter = int(start_page)\n",
    "total_df = pd.DataFrame()\n",
    "\n",
    "#function to get the results page and data for each fund.\n",
    "def get_results():\n",
    "    element = WebDriverWait(driver, 5).until(\n",
    "        EC.presence_of_element_located((By.ID, \"tabs-tab-1\")))\n",
    "    element.click()\n",
    "    time.sleep(2)\n",
    "\n",
    "    soup = BeautifulSoup(driver.page_source, 'lxml')\n",
    "    results_table = soup.find_all('table')[0]\n",
    "    results_table_data = [[cell.text for cell in row.find_all(\n",
    "        [\"th\", \"td\"])] for row in results_table.find_all(\"tr\")]\n",
    "\n",
    "    results_frame = pd.DataFrame(results_table_data)\n",
    "    temp_df = pd.merge(\n",
    "        df, results_frame, right_index=True, left_index=True)\n",
    "    print(temp_df.head())\n",
    "\n",
    "    return temp_df\n",
    "\n",
    "total_df = total_df.append(get_results())\n",
    "\n",
    "driver.quit()\n",
    "\n",
    "\n"
   ]
  },
  {
   "cell_type": "code",
   "execution_count": null,
   "metadata": {},
   "outputs": [],
   "source": [
    "pd.pandas.set_option('display.max_columns', None)\n",
    "total_df.head()"
   ]
  },
  {
   "cell_type": "code",
   "execution_count": null,
   "metadata": {},
   "outputs": [],
   "source": [
    "total_df.head()"
   ]
  },
  {
   "cell_type": "code",
   "execution_count": 70,
   "metadata": {},
   "outputs": [
    {
     "output_type": "execute_result",
     "data": {
      "text/plain": "   Unnamed: 0  0_x                                    1_x  \\\n0           0  NaN                                   Fond   \n1           1  Köp                    UB Asia REIT Plus A   \n2           2  Köp  UB EM Frontier Real Assets A Tillväxt   \n3           3  Köp                          UB EM Infra A   \n4           4  Köp                       UB Europa REIT A   \n\n                                     2_x  \\\n0                                    NaN   \n1                    UB Asia REIT Plus A   \n2  UB EM Frontier Real Assets A Tillväxt   \n3                          UB EM Infra A   \n4                       UB Europa REIT A   \n\n                                     3_x       4_x     5_x  \\\n0                                    NaN  Kategori  Rating   \n1                    UB Asia REIT Plus A       NaN     NaN   \n2  UB EM Frontier Real Assets A Tillväxt       NaN     NaN   \n3                          UB EM Infra A       NaN     NaN   \n4                       UB Europa REIT A       NaN     NaN   \n\n                                   6_x           7_x         8_x     9_x  \\\n0                                 1 år  Årlig avgift  Hållbarhet    Risk   \n1   Branschfond, fastighetsbolag Asien           3/5         NaN  -25.42   \n2                   Övriga aktiefonder             -           –  -31.25   \n3           Branschfond, infrastruktur           2/5         NaN  -26.25   \n4  Branschfond, fastighetsbolag Europa           2/5         NaN  -15.59   \n\n   10_x           11_x            12_x  13_x 14_x       15_x 16_x 17_x 18_x  \\\n0   NaN            NaN             NaN   NaN  NaN        NaN  NaN  NaN  NaN   \n1  1.84   20 20 av 100  Medel (5 av 7)   NaN       Expandera                  \n2  1.89   25 25 av 100    Hög (6 av 7)   NaN       Expandera                  \n3  1.81   29 29 av 100  Medel (5 av 7)   NaN       Expandera                  \n4  1.31   16 16 av 100  Medel (5 av 7)   NaN       Expandera                  \n\n  19_x  0_y                                    1_y  \\\n0  NaN  NaN                                   Fond   \n1       Köp                    UB Asia REIT Plus A   \n2       Köp  UB EM Frontier Real Assets A Tillväxt   \n3       Köp                          UB EM Infra A   \n4       Köp                       UB Europa REIT A   \n\n                                     2_y  \\\n0                                    NaN   \n1                    UB Asia REIT Plus A   \n2  UB EM Frontier Real Assets A Tillväxt   \n3                          UB EM Infra A   \n4                       UB Europa REIT A   \n\n                                     3_y    4_y      5_y    6_y    7_y   8_y  \\\n0                                    NaN  1 dag  1 vecka  1 mån  3 mån  i år   \n1                    UB Asia REIT Plus A    NaN      NaN  -0.61   0.67  3.12   \n2  UB EM Frontier Real Assets A Tillväxt    NaN      NaN  -1.23   -0.4   0.1   \n3                          UB EM Infra A    NaN      NaN  -0.49   1.05  1.21   \n4                       UB Europa REIT A    NaN      NaN  -0.03   -0.5  0.23   \n\n      9_y    10_y    11_y    12_y   13_y   14_y  15_y 16_y       17_y 18_y  \\\n0    1 år    3 år    5 år   10 år    NaN    NaN   NaN  NaN        NaN  NaN   \n1   -8.21  -24.14  -25.42   -2.33  23.48  75.61   NaN       Expandera        \n2  -12.67  -30.05  -31.25       –      –      –   NaN       Expandera        \n3  -12.57  -27.54  -26.25  -12.87   5.57  53.28   NaN       Expandera        \n4   -5.83   -24.1  -15.59    4.07  15.96  86.57   NaN       Expandera        \n\n  19_y   20   21   22  \n0  NaN  NaN  NaN  NaN  \n1                      \n2                      \n3                      \n4                      ",
      "text/html": "<div>\n<style scoped>\n    .dataframe tbody tr th:only-of-type {\n        vertical-align: middle;\n    }\n\n    .dataframe tbody tr th {\n        vertical-align: top;\n    }\n\n    .dataframe thead th {\n        text-align: right;\n    }\n</style>\n<table border=\"1\" class=\"dataframe\">\n  <thead>\n    <tr style=\"text-align: right;\">\n      <th></th>\n      <th>Unnamed: 0</th>\n      <th>0_x</th>\n      <th>1_x</th>\n      <th>2_x</th>\n      <th>3_x</th>\n      <th>4_x</th>\n      <th>5_x</th>\n      <th>6_x</th>\n      <th>7_x</th>\n      <th>8_x</th>\n      <th>9_x</th>\n      <th>10_x</th>\n      <th>11_x</th>\n      <th>12_x</th>\n      <th>13_x</th>\n      <th>14_x</th>\n      <th>15_x</th>\n      <th>16_x</th>\n      <th>17_x</th>\n      <th>18_x</th>\n      <th>19_x</th>\n      <th>0_y</th>\n      <th>1_y</th>\n      <th>2_y</th>\n      <th>3_y</th>\n      <th>4_y</th>\n      <th>5_y</th>\n      <th>6_y</th>\n      <th>7_y</th>\n      <th>8_y</th>\n      <th>9_y</th>\n      <th>10_y</th>\n      <th>11_y</th>\n      <th>12_y</th>\n      <th>13_y</th>\n      <th>14_y</th>\n      <th>15_y</th>\n      <th>16_y</th>\n      <th>17_y</th>\n      <th>18_y</th>\n      <th>19_y</th>\n      <th>20</th>\n      <th>21</th>\n      <th>22</th>\n    </tr>\n  </thead>\n  <tbody>\n    <tr>\n      <th>0</th>\n      <td>0</td>\n      <td>NaN</td>\n      <td>Fond</td>\n      <td>NaN</td>\n      <td>NaN</td>\n      <td>Kategori</td>\n      <td>Rating</td>\n      <td>1 år</td>\n      <td>Årlig avgift</td>\n      <td>Hållbarhet</td>\n      <td>Risk</td>\n      <td>NaN</td>\n      <td>NaN</td>\n      <td>NaN</td>\n      <td>NaN</td>\n      <td>NaN</td>\n      <td>NaN</td>\n      <td>NaN</td>\n      <td>NaN</td>\n      <td>NaN</td>\n      <td>NaN</td>\n      <td>NaN</td>\n      <td>Fond</td>\n      <td>NaN</td>\n      <td>NaN</td>\n      <td>1 dag</td>\n      <td>1 vecka</td>\n      <td>1 mån</td>\n      <td>3 mån</td>\n      <td>i år</td>\n      <td>1 år</td>\n      <td>3 år</td>\n      <td>5 år</td>\n      <td>10 år</td>\n      <td>NaN</td>\n      <td>NaN</td>\n      <td>NaN</td>\n      <td>NaN</td>\n      <td>NaN</td>\n      <td>NaN</td>\n      <td>NaN</td>\n      <td>NaN</td>\n      <td>NaN</td>\n      <td>NaN</td>\n    </tr>\n    <tr>\n      <th>1</th>\n      <td>1</td>\n      <td>Köp</td>\n      <td>UB Asia REIT Plus A</td>\n      <td>UB Asia REIT Plus A</td>\n      <td>UB Asia REIT Plus A</td>\n      <td>NaN</td>\n      <td>NaN</td>\n      <td>Branschfond, fastighetsbolag Asien</td>\n      <td>3/5</td>\n      <td>NaN</td>\n      <td>-25.42</td>\n      <td>1.84</td>\n      <td>20 20 av 100</td>\n      <td>Medel (5 av 7)</td>\n      <td>NaN</td>\n      <td></td>\n      <td>Expandera</td>\n      <td></td>\n      <td></td>\n      <td></td>\n      <td></td>\n      <td>Köp</td>\n      <td>UB Asia REIT Plus A</td>\n      <td>UB Asia REIT Plus A</td>\n      <td>UB Asia REIT Plus A</td>\n      <td>NaN</td>\n      <td>NaN</td>\n      <td>-0.61</td>\n      <td>0.67</td>\n      <td>3.12</td>\n      <td>-8.21</td>\n      <td>-24.14</td>\n      <td>-25.42</td>\n      <td>-2.33</td>\n      <td>23.48</td>\n      <td>75.61</td>\n      <td>NaN</td>\n      <td></td>\n      <td>Expandera</td>\n      <td></td>\n      <td></td>\n      <td></td>\n      <td></td>\n      <td></td>\n    </tr>\n    <tr>\n      <th>2</th>\n      <td>2</td>\n      <td>Köp</td>\n      <td>UB EM Frontier Real Assets A Tillväxt</td>\n      <td>UB EM Frontier Real Assets A Tillväxt</td>\n      <td>UB EM Frontier Real Assets A Tillväxt</td>\n      <td>NaN</td>\n      <td>NaN</td>\n      <td>Övriga aktiefonder</td>\n      <td>-</td>\n      <td>–</td>\n      <td>-31.25</td>\n      <td>1.89</td>\n      <td>25 25 av 100</td>\n      <td>Hög (6 av 7)</td>\n      <td>NaN</td>\n      <td></td>\n      <td>Expandera</td>\n      <td></td>\n      <td></td>\n      <td></td>\n      <td></td>\n      <td>Köp</td>\n      <td>UB EM Frontier Real Assets A Tillväxt</td>\n      <td>UB EM Frontier Real Assets A Tillväxt</td>\n      <td>UB EM Frontier Real Assets A Tillväxt</td>\n      <td>NaN</td>\n      <td>NaN</td>\n      <td>-1.23</td>\n      <td>-0.4</td>\n      <td>0.1</td>\n      <td>-12.67</td>\n      <td>-30.05</td>\n      <td>-31.25</td>\n      <td>–</td>\n      <td>–</td>\n      <td>–</td>\n      <td>NaN</td>\n      <td></td>\n      <td>Expandera</td>\n      <td></td>\n      <td></td>\n      <td></td>\n      <td></td>\n      <td></td>\n    </tr>\n    <tr>\n      <th>3</th>\n      <td>3</td>\n      <td>Köp</td>\n      <td>UB EM Infra A</td>\n      <td>UB EM Infra A</td>\n      <td>UB EM Infra A</td>\n      <td>NaN</td>\n      <td>NaN</td>\n      <td>Branschfond, infrastruktur</td>\n      <td>2/5</td>\n      <td>NaN</td>\n      <td>-26.25</td>\n      <td>1.81</td>\n      <td>29 29 av 100</td>\n      <td>Medel (5 av 7)</td>\n      <td>NaN</td>\n      <td></td>\n      <td>Expandera</td>\n      <td></td>\n      <td></td>\n      <td></td>\n      <td></td>\n      <td>Köp</td>\n      <td>UB EM Infra A</td>\n      <td>UB EM Infra A</td>\n      <td>UB EM Infra A</td>\n      <td>NaN</td>\n      <td>NaN</td>\n      <td>-0.49</td>\n      <td>1.05</td>\n      <td>1.21</td>\n      <td>-12.57</td>\n      <td>-27.54</td>\n      <td>-26.25</td>\n      <td>-12.87</td>\n      <td>5.57</td>\n      <td>53.28</td>\n      <td>NaN</td>\n      <td></td>\n      <td>Expandera</td>\n      <td></td>\n      <td></td>\n      <td></td>\n      <td></td>\n      <td></td>\n    </tr>\n    <tr>\n      <th>4</th>\n      <td>4</td>\n      <td>Köp</td>\n      <td>UB Europa REIT A</td>\n      <td>UB Europa REIT A</td>\n      <td>UB Europa REIT A</td>\n      <td>NaN</td>\n      <td>NaN</td>\n      <td>Branschfond, fastighetsbolag Europa</td>\n      <td>2/5</td>\n      <td>NaN</td>\n      <td>-15.59</td>\n      <td>1.31</td>\n      <td>16 16 av 100</td>\n      <td>Medel (5 av 7)</td>\n      <td>NaN</td>\n      <td></td>\n      <td>Expandera</td>\n      <td></td>\n      <td></td>\n      <td></td>\n      <td></td>\n      <td>Köp</td>\n      <td>UB Europa REIT A</td>\n      <td>UB Europa REIT A</td>\n      <td>UB Europa REIT A</td>\n      <td>NaN</td>\n      <td>NaN</td>\n      <td>-0.03</td>\n      <td>-0.5</td>\n      <td>0.23</td>\n      <td>-5.83</td>\n      <td>-24.1</td>\n      <td>-15.59</td>\n      <td>4.07</td>\n      <td>15.96</td>\n      <td>86.57</td>\n      <td>NaN</td>\n      <td></td>\n      <td>Expandera</td>\n      <td></td>\n      <td></td>\n      <td></td>\n      <td></td>\n      <td></td>\n    </tr>\n  </tbody>\n</table>\n</div>"
     },
     "metadata": {},
     "execution_count": 70
    }
   ],
   "source": [
    "import pandas as pd\n",
    "df = pd.read_csv('Fonder_total.csv')\n",
    "pd.pandas.set_option('display.max_columns', None)\n",
    "df.head()"
   ]
  },
  {
   "cell_type": "code",
   "execution_count": 71,
   "metadata": {},
   "outputs": [
    {
     "output_type": "error",
     "ename": "IndexError",
     "evalue": "too many indices for array",
     "traceback": [
      "\u001b[1;31m---------------------------------------------------------------------------\u001b[0m",
      "\u001b[1;31mIndexError\u001b[0m                                Traceback (most recent call last)",
      "\u001b[1;32m<ipython-input-71-811c726dd49c>\u001b[0m in \u001b[0;36m<module>\u001b[1;34m\u001b[0m\n\u001b[1;32m----> 1\u001b[1;33m \u001b[0mdf\u001b[0m\u001b[1;33m.\u001b[0m\u001b[0mdrop\u001b[0m\u001b[1;33m(\u001b[0m\u001b[0mdf\u001b[0m\u001b[1;33m.\u001b[0m\u001b[0mcolumns\u001b[0m\u001b[1;33m[\u001b[0m\u001b[1;33m[\u001b[0m\u001b[1;36m0\u001b[0m\u001b[1;33m,\u001b[0m \u001b[1;36m1\u001b[0m\u001b[1;33m,\u001b[0m \u001b[1;36m3\u001b[0m\u001b[1;33m,\u001b[0m \u001b[1;36m4\u001b[0m\u001b[1;33m,\u001b[0m \u001b[1;36m5\u001b[0m\u001b[1;33m,\u001b[0m \u001b[1;36m6\u001b[0m\u001b[1;33m,\u001b[0m\u001b[1;36m8\u001b[0m\u001b[1;33m,\u001b[0m\u001b[1;36m9\u001b[0m\u001b[1;33m,\u001b[0m\u001b[1;36m12\u001b[0m\u001b[1;33m]\u001b[0m\u001b[1;33m,\u001b[0m\u001b[1;36m14\u001b[0m\u001b[1;33m:\u001b[0m\u001b[1;36m20\u001b[0m\u001b[1;33m]\u001b[0m\u001b[1;33m,\u001b[0m \u001b[0maxis\u001b[0m\u001b[1;33m=\u001b[0m\u001b[1;36m1\u001b[0m\u001b[1;33m,\u001b[0m \u001b[0minplace\u001b[0m \u001b[1;33m=\u001b[0m \u001b[1;32mTrue\u001b[0m\u001b[1;33m)\u001b[0m\u001b[1;33m\u001b[0m\u001b[1;33m\u001b[0m\u001b[0m\n\u001b[0m\u001b[0;32m      2\u001b[0m \u001b[1;31m#df.drop(df.columns[12:15], axis=1, inplace = True)\u001b[0m\u001b[1;33m\u001b[0m\u001b[1;33m\u001b[0m\u001b[1;33m\u001b[0m\u001b[0m\n\u001b[0;32m      3\u001b[0m \u001b[0mdf\u001b[0m\u001b[1;33m.\u001b[0m\u001b[0mhead\u001b[0m\u001b[1;33m(\u001b[0m\u001b[1;33m)\u001b[0m\u001b[1;33m\u001b[0m\u001b[1;33m\u001b[0m\u001b[0m\n",
      "\u001b[1;32m~\\AppData\\Local\\Programs\\Python\\Python38-32\\lib\\site-packages\\pandas\\core\\indexes\\base.py\u001b[0m in \u001b[0;36m__getitem__\u001b[1;34m(self, key)\u001b[0m\n\u001b[0;32m   3939\u001b[0m \u001b[1;33m\u001b[0m\u001b[0m\n\u001b[0;32m   3940\u001b[0m         \u001b[0mkey\u001b[0m \u001b[1;33m=\u001b[0m \u001b[0mcom\u001b[0m\u001b[1;33m.\u001b[0m\u001b[0mvalues_from_object\u001b[0m\u001b[1;33m(\u001b[0m\u001b[0mkey\u001b[0m\u001b[1;33m)\u001b[0m\u001b[1;33m\u001b[0m\u001b[1;33m\u001b[0m\u001b[0m\n\u001b[1;32m-> 3941\u001b[1;33m         \u001b[0mresult\u001b[0m \u001b[1;33m=\u001b[0m \u001b[0mgetitem\u001b[0m\u001b[1;33m(\u001b[0m\u001b[0mkey\u001b[0m\u001b[1;33m)\u001b[0m\u001b[1;33m\u001b[0m\u001b[1;33m\u001b[0m\u001b[0m\n\u001b[0m\u001b[0;32m   3942\u001b[0m         \u001b[1;32mif\u001b[0m \u001b[1;32mnot\u001b[0m \u001b[0mis_scalar\u001b[0m\u001b[1;33m(\u001b[0m\u001b[0mresult\u001b[0m\u001b[1;33m)\u001b[0m\u001b[1;33m:\u001b[0m\u001b[1;33m\u001b[0m\u001b[1;33m\u001b[0m\u001b[0m\n\u001b[0;32m   3943\u001b[0m             \u001b[1;32mif\u001b[0m \u001b[0mnp\u001b[0m\u001b[1;33m.\u001b[0m\u001b[0mndim\u001b[0m\u001b[1;33m(\u001b[0m\u001b[0mresult\u001b[0m\u001b[1;33m)\u001b[0m \u001b[1;33m>\u001b[0m \u001b[1;36m1\u001b[0m\u001b[1;33m:\u001b[0m\u001b[1;33m\u001b[0m\u001b[1;33m\u001b[0m\u001b[0m\n",
      "\u001b[1;31mIndexError\u001b[0m: too many indices for array"
     ]
    }
   ],
   "source": [
    "df.drop(df.columns[[0, 1, 3, 4, 5, 6,8,9,12]], axis=1, inplace = True)\n",
    "#df.drop(df.columns[12:15], axis=1, inplace = True)\n",
    "df.head()"
   ]
  },
  {
   "cell_type": "code",
   "execution_count": null,
   "metadata": {},
   "outputs": [],
   "source": [
    "df.head()"
   ]
  },
  {
   "cell_type": "code",
   "execution_count": null,
   "metadata": {
    "tags": []
   },
   "outputs": [],
   "source": [
    "df = df.applymap(functions.clean_data_number)"
   ]
  },
  {
   "cell_type": "code",
   "execution_count": null,
   "metadata": {},
   "outputs": [],
   "source": [
    "pd.pandas.set_option('display.max_columns', None)\n",
    "df.head()"
   ]
  },
  {
   "cell_type": "code",
   "execution_count": null,
   "metadata": {},
   "outputs": [],
   "source": []
  },
  {
   "cell_type": "code",
   "execution_count": null,
   "metadata": {},
   "outputs": [],
   "source": [
    "hello = '1.36 %1,36%'"
   ]
  },
  {
   "cell_type": "code",
   "execution_count": null,
   "metadata": {
    "tags": []
   },
   "outputs": [],
   "source": [
    "if str('1.36') in hello: print('ja')"
   ]
  },
  {
   "cell_type": "code",
   "execution_count": null,
   "metadata": {},
   "outputs": [],
   "source": []
  }
 ]
}